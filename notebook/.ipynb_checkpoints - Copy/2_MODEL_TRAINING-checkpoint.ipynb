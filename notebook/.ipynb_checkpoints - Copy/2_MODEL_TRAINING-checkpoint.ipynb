{
 "cells": [
  {
   "cell_type": "code",
   "execution_count": 5,
   "id": "3e2adefc-c46b-43cf-974a-735e85252462",
   "metadata": {},
   "outputs": [],
   "source": [
    "# Basic Import\n",
    "import numpy as np\n",
    "import pandas as pd\n",
    "import matplotlib.pyplot as plt \n",
    "import seaborn as sns\n",
    "# Modelling\n",
    "from sklearn.metrics import mean_squared_error, r2_score\n",
    "from sklearn.neighbors import KNeighborsRegressor\n",
    "from sklearn.tree import DecisionTreeRegressor\n",
    "from sklearn.ensemble import RandomForestRegressor,AdaBoostRegressor\n",
    "from sklearn.svm import SVR\n",
    "from sklearn.linear_model import LinearRegression, Ridge,Lasso\n",
    "from sklearn.metrics import r2_score, mean_absolute_error, mean_squared_error\n",
    "from sklearn.model_selection import RandomizedSearchCV\n",
    "from catboost import CatBoostRegressor\n",
    "from xgboost import XGBRegressor\n",
    "import warnings"
   ]
  },
  {
   "cell_type": "markdown",
   "id": "01d2b864-b824-4d1e-b626-9ddd14eb2b63",
   "metadata": {},
   "source": [
    "### Import the CSV file as pd dataframe"
   ]
  },
  {
   "cell_type": "code",
   "execution_count": 2,
   "id": "fa74af43-51b1-4dba-8920-5b3a748a4b01",
   "metadata": {},
   "outputs": [
    {
     "data": {
      "text/html": [
       "<div>\n",
       "<style scoped>\n",
       "    .dataframe tbody tr th:only-of-type {\n",
       "        vertical-align: middle;\n",
       "    }\n",
       "\n",
       "    .dataframe tbody tr th {\n",
       "        vertical-align: top;\n",
       "    }\n",
       "\n",
       "    .dataframe thead th {\n",
       "        text-align: right;\n",
       "    }\n",
       "</style>\n",
       "<table border=\"1\" class=\"dataframe\">\n",
       "  <thead>\n",
       "    <tr style=\"text-align: right;\">\n",
       "      <th></th>\n",
       "      <th>gender</th>\n",
       "      <th>race_ethnicity</th>\n",
       "      <th>parental_level_of_education</th>\n",
       "      <th>lunch</th>\n",
       "      <th>test_preparation_course</th>\n",
       "      <th>math_score</th>\n",
       "      <th>reading_score</th>\n",
       "      <th>writing_score</th>\n",
       "    </tr>\n",
       "  </thead>\n",
       "  <tbody>\n",
       "    <tr>\n",
       "      <th>0</th>\n",
       "      <td>female</td>\n",
       "      <td>group B</td>\n",
       "      <td>bachelor's degree</td>\n",
       "      <td>standard</td>\n",
       "      <td>none</td>\n",
       "      <td>72</td>\n",
       "      <td>72</td>\n",
       "      <td>74</td>\n",
       "    </tr>\n",
       "    <tr>\n",
       "      <th>1</th>\n",
       "      <td>female</td>\n",
       "      <td>group C</td>\n",
       "      <td>some college</td>\n",
       "      <td>standard</td>\n",
       "      <td>completed</td>\n",
       "      <td>69</td>\n",
       "      <td>90</td>\n",
       "      <td>88</td>\n",
       "    </tr>\n",
       "    <tr>\n",
       "      <th>2</th>\n",
       "      <td>female</td>\n",
       "      <td>group B</td>\n",
       "      <td>master's degree</td>\n",
       "      <td>standard</td>\n",
       "      <td>none</td>\n",
       "      <td>90</td>\n",
       "      <td>95</td>\n",
       "      <td>93</td>\n",
       "    </tr>\n",
       "    <tr>\n",
       "      <th>3</th>\n",
       "      <td>male</td>\n",
       "      <td>group A</td>\n",
       "      <td>associate's degree</td>\n",
       "      <td>free/reduced</td>\n",
       "      <td>none</td>\n",
       "      <td>47</td>\n",
       "      <td>57</td>\n",
       "      <td>44</td>\n",
       "    </tr>\n",
       "    <tr>\n",
       "      <th>4</th>\n",
       "      <td>male</td>\n",
       "      <td>group C</td>\n",
       "      <td>some college</td>\n",
       "      <td>standard</td>\n",
       "      <td>none</td>\n",
       "      <td>76</td>\n",
       "      <td>78</td>\n",
       "      <td>75</td>\n",
       "    </tr>\n",
       "  </tbody>\n",
       "</table>\n",
       "</div>"
      ],
      "text/plain": [
       "   gender race_ethnicity parental_level_of_education         lunch  \\\n",
       "0  female        group B           bachelor's degree      standard   \n",
       "1  female        group C                some college      standard   \n",
       "2  female        group B             master's degree      standard   \n",
       "3    male        group A          associate's degree  free/reduced   \n",
       "4    male        group C                some college      standard   \n",
       "\n",
       "  test_preparation_course  math_score  reading_score  writing_score  \n",
       "0                    none          72             72             74  \n",
       "1               completed          69             90             88  \n",
       "2                    none          90             95             93  \n",
       "3                    none          47             57             44  \n",
       "4                    none          76             78             75  "
      ]
     },
     "execution_count": 2,
     "metadata": {},
     "output_type": "execute_result"
    }
   ],
   "source": [
    "df = pd.read_csv('C:/Users/Areta/Documents/Data Science/mlproject/notebook/data/stud.csv')\n",
    "df.head(5)"
   ]
  },
  {
   "cell_type": "markdown",
   "id": "f838d470-2663-4b2f-8202-434d44056074",
   "metadata": {},
   "source": [
    "### Preparing X and Y variables\n",
    "In this project, we will predict the math score;\n",
    "- Thus, math score is the dependant features (Y).\n",
    "- The rest are indipendent features (X)"
   ]
  },
  {
   "cell_type": "code",
   "execution_count": 9,
   "id": "61741fdc-aa54-4daf-9224-1dfe43a9fd0c",
   "metadata": {},
   "outputs": [
    {
     "data": {
      "text/html": [
       "<div>\n",
       "<style scoped>\n",
       "    .dataframe tbody tr th:only-of-type {\n",
       "        vertical-align: middle;\n",
       "    }\n",
       "\n",
       "    .dataframe tbody tr th {\n",
       "        vertical-align: top;\n",
       "    }\n",
       "\n",
       "    .dataframe thead th {\n",
       "        text-align: right;\n",
       "    }\n",
       "</style>\n",
       "<table border=\"1\" class=\"dataframe\">\n",
       "  <thead>\n",
       "    <tr style=\"text-align: right;\">\n",
       "      <th></th>\n",
       "      <th>gender</th>\n",
       "      <th>race_ethnicity</th>\n",
       "      <th>parental_level_of_education</th>\n",
       "      <th>lunch</th>\n",
       "      <th>test_preparation_course</th>\n",
       "      <th>reading_score</th>\n",
       "      <th>writing_score</th>\n",
       "    </tr>\n",
       "  </thead>\n",
       "  <tbody>\n",
       "    <tr>\n",
       "      <th>0</th>\n",
       "      <td>female</td>\n",
       "      <td>group B</td>\n",
       "      <td>bachelor's degree</td>\n",
       "      <td>standard</td>\n",
       "      <td>none</td>\n",
       "      <td>72</td>\n",
       "      <td>74</td>\n",
       "    </tr>\n",
       "    <tr>\n",
       "      <th>1</th>\n",
       "      <td>female</td>\n",
       "      <td>group C</td>\n",
       "      <td>some college</td>\n",
       "      <td>standard</td>\n",
       "      <td>completed</td>\n",
       "      <td>90</td>\n",
       "      <td>88</td>\n",
       "    </tr>\n",
       "    <tr>\n",
       "      <th>2</th>\n",
       "      <td>female</td>\n",
       "      <td>group B</td>\n",
       "      <td>master's degree</td>\n",
       "      <td>standard</td>\n",
       "      <td>none</td>\n",
       "      <td>95</td>\n",
       "      <td>93</td>\n",
       "    </tr>\n",
       "    <tr>\n",
       "      <th>3</th>\n",
       "      <td>male</td>\n",
       "      <td>group A</td>\n",
       "      <td>associate's degree</td>\n",
       "      <td>free/reduced</td>\n",
       "      <td>none</td>\n",
       "      <td>57</td>\n",
       "      <td>44</td>\n",
       "    </tr>\n",
       "    <tr>\n",
       "      <th>4</th>\n",
       "      <td>male</td>\n",
       "      <td>group C</td>\n",
       "      <td>some college</td>\n",
       "      <td>standard</td>\n",
       "      <td>none</td>\n",
       "      <td>78</td>\n",
       "      <td>75</td>\n",
       "    </tr>\n",
       "  </tbody>\n",
       "</table>\n",
       "</div>"
      ],
      "text/plain": [
       "   gender race_ethnicity parental_level_of_education         lunch  \\\n",
       "0  female        group B           bachelor's degree      standard   \n",
       "1  female        group C                some college      standard   \n",
       "2  female        group B             master's degree      standard   \n",
       "3    male        group A          associate's degree  free/reduced   \n",
       "4    male        group C                some college      standard   \n",
       "\n",
       "  test_preparation_course  reading_score  writing_score  \n",
       "0                    none             72             74  \n",
       "1               completed             90             88  \n",
       "2                    none             95             93  \n",
       "3                    none             57             44  \n",
       "4                    none             78             75  "
      ]
     },
     "execution_count": 9,
     "metadata": {},
     "output_type": "execute_result"
    }
   ],
   "source": [
    "X = df.drop('math_score', axis=1)\n",
    "X.head(5)"
   ]
  },
  {
   "cell_type": "code",
   "execution_count": 14,
   "id": "7099dc71-0ac9-47ba-a77d-7038636eb615",
   "metadata": {},
   "outputs": [
    {
     "data": {
      "text/plain": [
       "0    72\n",
       "1    69\n",
       "2    90\n",
       "3    47\n",
       "4    76\n",
       "Name: math_score, dtype: int64"
      ]
     },
     "execution_count": 14,
     "metadata": {},
     "output_type": "execute_result"
    }
   ],
   "source": [
    "y = df.math_score\n",
    "y.head(5)"
   ]
  },
  {
   "cell_type": "markdown",
   "id": "27912c38-95bc-402b-862a-024428b79f87",
   "metadata": {},
   "source": [
    "### Encode the cat features and Scale the num features"
   ]
  },
  {
   "cell_type": "code",
   "execution_count": 11,
   "id": "408504b9-039b-4601-906a-be29a0bfc6a1",
   "metadata": {},
   "outputs": [],
   "source": [
    "num_features = X.select_dtypes(exclude='object').columns\n",
    "cat_features = X.select_dtypes(include='object').columns\n",
    "\n",
    "from sklearn.preprocessing import OneHotEncoder, StandardScaler\n",
    "from sklearn.compose import ColumnTransformer\n",
    "\n",
    "preprocessor = ColumnTransformer(\n",
    "    [\n",
    "        ('OneHotEncoder', OneHotEncoder(), cat_features),\n",
    "        ('StandardScaler', StandardScaler(), num_features)\n",
    "    ]\n",
    ")"
   ]
  },
  {
   "cell_type": "code",
   "execution_count": 12,
   "id": "64bcf9ef-0265-40cc-8d91-435f83b016de",
   "metadata": {},
   "outputs": [
    {
     "data": {
      "text/plain": [
       "array([[ 1.        ,  0.        ,  0.        , ...,  1.        ,\n",
       "         0.19399858,  0.39149181],\n",
       "       [ 1.        ,  0.        ,  0.        , ...,  0.        ,\n",
       "         1.42747598,  1.31326868],\n",
       "       [ 1.        ,  0.        ,  0.        , ...,  1.        ,\n",
       "         1.77010859,  1.64247471],\n",
       "       ...,\n",
       "       [ 1.        ,  0.        ,  0.        , ...,  0.        ,\n",
       "         0.12547206, -0.20107904],\n",
       "       [ 1.        ,  0.        ,  0.        , ...,  0.        ,\n",
       "         0.60515772,  0.58901542],\n",
       "       [ 1.        ,  0.        ,  0.        , ...,  1.        ,\n",
       "         1.15336989,  1.18158627]])"
      ]
     },
     "execution_count": 12,
     "metadata": {},
     "output_type": "execute_result"
    }
   ],
   "source": [
    "X = preprocessor.fit_transform(X)\n",
    "X"
   ]
  },
  {
   "cell_type": "code",
   "execution_count": 13,
   "id": "bbdb094b-35ab-464c-9d6e-6b827747fbd7",
   "metadata": {},
   "outputs": [
    {
     "data": {
      "text/plain": [
       "(1000, 19)"
      ]
     },
     "execution_count": 13,
     "metadata": {},
     "output_type": "execute_result"
    }
   ],
   "source": [
    "X.shape"
   ]
  },
  {
   "cell_type": "markdown",
   "id": "6bba8710-ed6c-4041-b546-e15681a20031",
   "metadata": {},
   "source": [
    "### Separate dataset into train and test"
   ]
  },
  {
   "cell_type": "code",
   "execution_count": 16,
   "id": "686f09c9-180c-4480-b141-4647c89787dc",
   "metadata": {},
   "outputs": [
    {
     "data": {
      "text/plain": [
       "((800, 19), (200, 19))"
      ]
     },
     "execution_count": 16,
     "metadata": {},
     "output_type": "execute_result"
    }
   ],
   "source": [
    "from sklearn.model_selection import train_test_split\n",
    "X_train, X_test, y_train, y_test = train_test_split(X,y,test_size=0.2,random_state=32)\n",
    "X_train.shape, X_test.shape"
   ]
  },
  {
   "cell_type": "markdown",
   "id": "284abbd8-eda5-436f-b3b0-ad4a2d6c5865",
   "metadata": {},
   "source": [
    "### Create an Evaluate Function to give all metrics after model training"
   ]
  },
  {
   "cell_type": "code",
   "execution_count": 27,
   "id": "e2e10927-3a3f-4ef7-8122-e860ab067984",
   "metadata": {},
   "outputs": [],
   "source": [
    "def evaluate_model(true, predicted):\n",
    "    mae = mean_absolute_error(true, predicted)\n",
    "    mse = mean_squared_error(true, predicted)\n",
    "    rmse = np.sqrt(mean_squared_error(true, predicted))\n",
    "    r2_square = r2_score(true, predicted)\n",
    "    return mae, rmse, r2_square"
   ]
  },
  {
   "cell_type": "code",
   "execution_count": 29,
   "id": "a3af65f2-3f91-4a0a-a1f5-0afd0bd471f3",
   "metadata": {},
   "outputs": [
    {
     "name": "stdout",
     "output_type": "stream",
     "text": [
      "Linear Regression\n",
      "Model performance for training set\n",
      "- Root Mean Squared Error: 5.273\n",
      "- Mean Absolute Error: 4.228\n",
      "- R2 Score: 0.883\n",
      "------------------------------------\n",
      "Model performance for test set\n",
      "- Root Mean Squared Error: 5.565\n",
      "- Mean Absolute Error: 4.365\n",
      "- R2 Score: 0.845\n",
      "===================================\n",
      "\n",
      "\n",
      "Lasso\n",
      "Model performance for training set\n",
      "- Root Mean Squared Error: 6.478\n",
      "- Mean Absolute Error: 5.130\n",
      "- R2 Score: 0.823\n",
      "------------------------------------\n",
      "Model performance for test set\n",
      "- Root Mean Squared Error: 6.343\n",
      "- Mean Absolute Error: 4.952\n",
      "- R2 Score: 0.799\n",
      "===================================\n",
      "\n",
      "\n",
      "Ridge\n",
      "Model performance for training set\n",
      "- Root Mean Squared Error: 5.269\n",
      "- Mean Absolute Error: 4.216\n",
      "- R2 Score: 0.883\n",
      "------------------------------------\n",
      "Model performance for test set\n",
      "- Root Mean Squared Error: 5.577\n",
      "- Mean Absolute Error: 4.377\n",
      "- R2 Score: 0.845\n",
      "===================================\n",
      "\n",
      "\n",
      "K-Neighbors Regressor\n",
      "Model performance for training set\n",
      "- Root Mean Squared Error: 5.852\n",
      "- Mean Absolute Error: 4.650\n",
      "- R2 Score: 0.855\n",
      "------------------------------------\n",
      "Model performance for test set\n",
      "- Root Mean Squared Error: 7.108\n",
      "- Mean Absolute Error: 5.763\n",
      "- R2 Score: 0.747\n",
      "===================================\n",
      "\n",
      "\n",
      "Decision Tree\n",
      "Model performance for training set\n",
      "- Root Mean Squared Error: 0.451\n",
      "- Mean Absolute Error: 0.039\n",
      "- R2 Score: 0.999\n",
      "------------------------------------\n",
      "Model performance for test set\n",
      "- Root Mean Squared Error: 8.683\n",
      "- Mean Absolute Error: 6.870\n",
      "- R2 Score: 0.623\n",
      "===================================\n",
      "\n",
      "\n",
      "Random Forest\n",
      "Model performance for training set\n",
      "- Root Mean Squared Error: 2.288\n",
      "- Mean Absolute Error: 1.792\n",
      "- R2 Score: 0.978\n",
      "------------------------------------\n",
      "Model performance for test set\n",
      "- Root Mean Squared Error: 6.424\n",
      "- Mean Absolute Error: 5.179\n",
      "- R2 Score: 0.794\n",
      "===================================\n",
      "\n",
      "\n",
      "XGBRegressor\n",
      "Model performance for training set\n",
      "- Root Mean Squared Error: 1.001\n",
      "- Mean Absolute Error: 0.629\n",
      "- R2 Score: 0.996\n",
      "------------------------------------\n",
      "Model performance for test set\n",
      "- Root Mean Squared Error: 6.849\n",
      "- Mean Absolute Error: 5.437\n",
      "- R2 Score: 0.766\n",
      "===================================\n",
      "\n",
      "\n",
      "CatBoosting Regressor\n",
      "Model performance for training set\n",
      "- Root Mean Squared Error: 2.955\n",
      "- Mean Absolute Error: 2.302\n",
      "- R2 Score: 0.963\n",
      "------------------------------------\n",
      "Model performance for test set\n",
      "- Root Mean Squared Error: 5.867\n",
      "- Mean Absolute Error: 4.734\n",
      "- R2 Score: 0.828\n",
      "===================================\n",
      "\n",
      "\n",
      "AdaBoost Regressor\n",
      "Model performance for training set\n",
      "- Root Mean Squared Error: 5.777\n",
      "- Mean Absolute Error: 4.676\n",
      "- R2 Score: 0.859\n",
      "------------------------------------\n",
      "Model performance for test set\n",
      "- Root Mean Squared Error: 6.141\n",
      "- Mean Absolute Error: 4.863\n",
      "- R2 Score: 0.811\n",
      "===================================\n",
      "\n",
      "\n"
     ]
    }
   ],
   "source": [
    "models = {\n",
    "    \"Linear Regression\": LinearRegression(),\n",
    "    \"Lasso\": Lasso(),\n",
    "    \"Ridge\": Ridge(),\n",
    "    \"K-Neighbors Regressor\": KNeighborsRegressor(),\n",
    "    \"Decision Tree\": DecisionTreeRegressor(),\n",
    "    \"Random Forest\": RandomForestRegressor(),\n",
    "    \"XGBRegressor\": XGBRegressor(),\n",
    "    \"CatBoosting Regressor\": CatBoostRegressor(verbose=False),\n",
    "    \"AdaBoost Regressor\": AdaBoostRegressor()\n",
    "}\n",
    "model_list= []\n",
    "r2_list = []\n",
    "\n",
    "for i in range(len(list(models))):\n",
    "    model = list(models.values())[i]\n",
    "    model.fit(X_train,y_train) # trainmodel\n",
    "\n",
    "    # Make predictions\n",
    "    y_train_pred = model.predict(X_train)\n",
    "    y_test_pred = model.predict(X_test)\n",
    "\n",
    "    # Evaluate Train and Test dataset\n",
    "    model_train_mae, model_train_rmse, model_train_r2 = evaluate_model(y_train, y_train_pred)\n",
    "\n",
    "    model_test_mae, model_test_rmse, model_test_r2 = evaluate_model(y_test, y_test_pred)\n",
    "\n",
    "\n",
    "    print(list(models.keys())[i])\n",
    "    model_list.append(list(models.keys())[i])\n",
    "\n",
    "    print(\"Model performance for training set\")\n",
    "    print(\"- Root Mean Squared Error: {:.3f}\".format(model_train_rmse))\n",
    "    print(\"- Mean Absolute Error: {:.3f}\".format(model_train_mae))\n",
    "    print(\"- R2 Score: {:.3f}\".format(model_train_r2))\n",
    "\n",
    "    print(\"------------------------------------\")\n",
    "\n",
    "    print(\"Model performance for test set\")\n",
    "    print(\"- Root Mean Squared Error: {:.3f}\".format(model_test_rmse))\n",
    "    print(\"- Mean Absolute Error: {:.3f}\".format(model_test_mae))\n",
    "    print(\"- R2 Score: {:.3f}\".format(model_test_r2))\n",
    "    r2_list.append(model_test_r2)\n",
    "\n",
    "    print(\"=\"*35)\n",
    "    print(\"\\n\")"
   ]
  },
  {
   "cell_type": "markdown",
   "id": "5362c95f-4cca-4632-9743-7826e970f181",
   "metadata": {},
   "source": [
    "### Results"
   ]
  },
  {
   "cell_type": "code",
   "execution_count": 32,
   "id": "634d2041-5434-466f-b5fd-94b89f6f812e",
   "metadata": {},
   "outputs": [
    {
     "data": {
      "text/html": [
       "<div>\n",
       "<style scoped>\n",
       "    .dataframe tbody tr th:only-of-type {\n",
       "        vertical-align: middle;\n",
       "    }\n",
       "\n",
       "    .dataframe tbody tr th {\n",
       "        vertical-align: top;\n",
       "    }\n",
       "\n",
       "    .dataframe thead th {\n",
       "        text-align: right;\n",
       "    }\n",
       "</style>\n",
       "<table border=\"1\" class=\"dataframe\">\n",
       "  <thead>\n",
       "    <tr style=\"text-align: right;\">\n",
       "      <th></th>\n",
       "      <th>Model Name</th>\n",
       "      <th>R2_Score</th>\n",
       "    </tr>\n",
       "  </thead>\n",
       "  <tbody>\n",
       "    <tr>\n",
       "      <th>0</th>\n",
       "      <td>Linear Regression</td>\n",
       "      <td>0.845171</td>\n",
       "    </tr>\n",
       "    <tr>\n",
       "      <th>2</th>\n",
       "      <td>Ridge</td>\n",
       "      <td>0.844507</td>\n",
       "    </tr>\n",
       "    <tr>\n",
       "      <th>7</th>\n",
       "      <td>CatBoosting Regressor</td>\n",
       "      <td>0.827956</td>\n",
       "    </tr>\n",
       "    <tr>\n",
       "      <th>8</th>\n",
       "      <td>AdaBoost Regressor</td>\n",
       "      <td>0.811472</td>\n",
       "    </tr>\n",
       "    <tr>\n",
       "      <th>1</th>\n",
       "      <td>Lasso</td>\n",
       "      <td>0.798910</td>\n",
       "    </tr>\n",
       "    <tr>\n",
       "      <th>5</th>\n",
       "      <td>Random Forest</td>\n",
       "      <td>0.793732</td>\n",
       "    </tr>\n",
       "    <tr>\n",
       "      <th>6</th>\n",
       "      <td>XGBRegressor</td>\n",
       "      <td>0.765524</td>\n",
       "    </tr>\n",
       "    <tr>\n",
       "      <th>3</th>\n",
       "      <td>K-Neighbors Regressor</td>\n",
       "      <td>0.747412</td>\n",
       "    </tr>\n",
       "    <tr>\n",
       "      <th>4</th>\n",
       "      <td>Decision Tree</td>\n",
       "      <td>0.623091</td>\n",
       "    </tr>\n",
       "  </tbody>\n",
       "</table>\n",
       "</div>"
      ],
      "text/plain": [
       "              Model Name  R2_Score\n",
       "0      Linear Regression  0.845171\n",
       "2                  Ridge  0.844507\n",
       "7  CatBoosting Regressor  0.827956\n",
       "8     AdaBoost Regressor  0.811472\n",
       "1                  Lasso  0.798910\n",
       "5          Random Forest  0.793732\n",
       "6           XGBRegressor  0.765524\n",
       "3  K-Neighbors Regressor  0.747412\n",
       "4          Decision Tree  0.623091"
      ]
     },
     "execution_count": 32,
     "metadata": {},
     "output_type": "execute_result"
    }
   ],
   "source": [
    "pd.DataFrame(list(zip(model_list, r2_list)), columns=['Model Name', 'R2_Score']).sort_values(by=['R2_Score'],ascending=False)"
   ]
  },
  {
   "cell_type": "markdown",
   "id": "c64a5808-9a23-4352-a4f7-fe2497208904",
   "metadata": {},
   "source": [
    "Insights:\n",
    "- An R-Squared value shows how well the model predicts the outcome of the dependent variable. R-Squared values range from 0 to 1. An R-Squared value of 0 means that the model explains or predicts 0% of the relationship between the dependent and independent variables.\n",
    "- The highest R2 score is the one giving the closest prediction, thus we choose Linear Regression."
   ]
  },
  {
   "cell_type": "markdown",
   "id": "98e7fbbd-7e90-4644-9287-48e9ef0a5faa",
   "metadata": {},
   "source": [
    "### Linear Regression"
   ]
  },
  {
   "cell_type": "code",
   "execution_count": 33,
   "id": "145bdf66-763e-45a0-86e9-aade4825617f",
   "metadata": {},
   "outputs": [
    {
     "name": "stdout",
     "output_type": "stream",
     "text": [
      "Accuracy of the model is 84.52\n"
     ]
    }
   ],
   "source": [
    "lr = LinearRegression(fit_intercept=True)\n",
    "lr_model = lr.fit(X_train, y_train)\n",
    "y_pred = lr_model.predict(X_test)\n",
    "score = r2_score(y_test, y_pred)*100\n",
    "print(\"Accuracy of the model is %.2f\" %score)"
   ]
  },
  {
   "cell_type": "markdown",
   "id": "bd49b228-24b2-4676-934e-1c5789eaa736",
   "metadata": {},
   "source": [
    "### Plot y_pred and y_test"
   ]
  },
  {
   "cell_type": "code",
   "execution_count": 35,
   "id": "20b977fd-9ca2-4f31-8cd9-dc06af709d34",
   "metadata": {},
   "outputs": [
    {
     "data": {
      "text/plain": [
       "Text(0, 0.5, 'Prediction')"
      ]
     },
     "execution_count": 35,
     "metadata": {},
     "output_type": "execute_result"
    },
    {
     "data": {
      "image/png": "[encoded data removed]",
      "text/plain": [
       "<Figure size 640x480 with 1 Axes>"
      ]
     },
     "metadata": {},
     "output_type": "display_data"
    }
   ],
   "source": [
    "plt.scatter(y_test, y_pred);\n",
    "plt.xlabel('Actual')\n",
    "plt.ylabel('Prediction')"
   ]
  },
  {
   "cell_type": "code",
   "execution_count": 36,
   "id": "aa20f1fa-544a-460a-ae36-15a28b9ad853",
   "metadata": {},
   "outputs": [
    {
     "data": {
      "text/plain": [
       "<Axes: xlabel='math_score'>"
      ]
     },
     "execution_count": 36,
     "metadata": {},
     "output_type": "execute_result"
    },
    {
     "data": {
      "image/png": "[encoded data removed]",
      "text/plain": [
       "<Figure size 640x480 with 1 Axes>"
      ]
     },
     "metadata": {},
     "output_type": "display_data"
    }
   ],
   "source": [
    "sns.regplot(x=y_test, y=y_pred,ci=None,color='r')"
   ]
  },
  {
   "cell_type": "markdown",
   "id": "b609c46b-bdd2-48c0-9ccb-84f679a7e9b1",
   "metadata": {},
   "source": [
    "### Difference between Actual and Predicted Values"
   ]
  },
  {
   "cell_type": "code",
   "execution_count": 37,
   "id": "dd6c9e33-e96e-4756-8a33-f989ac00a982",
   "metadata": {},
   "outputs": [
    {
     "data": {
      "text/html": [
       "<div>\n",
       "<style scoped>\n",
       "    .dataframe tbody tr th:only-of-type {\n",
       "        vertical-align: middle;\n",
       "    }\n",
       "\n",
       "    .dataframe tbody tr th {\n",
       "        vertical-align: top;\n",
       "    }\n",
       "\n",
       "    .dataframe thead th {\n",
       "        text-align: right;\n",
       "    }\n",
       "</style>\n",
       "<table border=\"1\" class=\"dataframe\">\n",
       "  <thead>\n",
       "    <tr style=\"text-align: right;\">\n",
       "      <th></th>\n",
       "      <th>Actual_Value</th>\n",
       "      <th>Predicted_Value</th>\n",
       "      <th>Difference</th>\n",
       "    </tr>\n",
       "  </thead>\n",
       "  <tbody>\n",
       "    <tr>\n",
       "      <th>632</th>\n",
       "      <td>66</td>\n",
       "      <td>67.031250</td>\n",
       "      <td>-1.031250</td>\n",
       "    </tr>\n",
       "    <tr>\n",
       "      <th>687</th>\n",
       "      <td>77</td>\n",
       "      <td>77.312500</td>\n",
       "      <td>-0.312500</td>\n",
       "    </tr>\n",
       "    <tr>\n",
       "      <th>833</th>\n",
       "      <td>77</td>\n",
       "      <td>76.546875</td>\n",
       "      <td>0.453125</td>\n",
       "    </tr>\n",
       "    <tr>\n",
       "      <th>182</th>\n",
       "      <td>50</td>\n",
       "      <td>46.437500</td>\n",
       "      <td>3.562500</td>\n",
       "    </tr>\n",
       "    <tr>\n",
       "      <th>831</th>\n",
       "      <td>74</td>\n",
       "      <td>72.390625</td>\n",
       "      <td>1.609375</td>\n",
       "    </tr>\n",
       "    <tr>\n",
       "      <th>...</th>\n",
       "      <td>...</td>\n",
       "      <td>...</td>\n",
       "      <td>...</td>\n",
       "    </tr>\n",
       "    <tr>\n",
       "      <th>258</th>\n",
       "      <td>70</td>\n",
       "      <td>70.203125</td>\n",
       "      <td>-0.203125</td>\n",
       "    </tr>\n",
       "    <tr>\n",
       "      <th>118</th>\n",
       "      <td>51</td>\n",
       "      <td>55.093750</td>\n",
       "      <td>-4.093750</td>\n",
       "    </tr>\n",
       "    <tr>\n",
       "      <th>279</th>\n",
       "      <td>73</td>\n",
       "      <td>59.390625</td>\n",
       "      <td>13.609375</td>\n",
       "    </tr>\n",
       "    <tr>\n",
       "      <th>458</th>\n",
       "      <td>100</td>\n",
       "      <td>95.296875</td>\n",
       "      <td>4.703125</td>\n",
       "    </tr>\n",
       "    <tr>\n",
       "      <th>301</th>\n",
       "      <td>56</td>\n",
       "      <td>56.843750</td>\n",
       "      <td>-0.843750</td>\n",
       "    </tr>\n",
       "  </tbody>\n",
       "</table>\n",
       "<p>200 rows × 3 columns</p>\n",
       "</div>"
      ],
      "text/plain": [
       "     Actual_Value  Predicted_Value  Difference\n",
       "632            66        67.031250   -1.031250\n",
       "687            77        77.312500   -0.312500\n",
       "833            77        76.546875    0.453125\n",
       "182            50        46.437500    3.562500\n",
       "831            74        72.390625    1.609375\n",
       "..            ...              ...         ...\n",
       "258            70        70.203125   -0.203125\n",
       "118            51        55.093750   -4.093750\n",
       "279            73        59.390625   13.609375\n",
       "458           100        95.296875    4.703125\n",
       "301            56        56.843750   -0.843750\n",
       "\n",
       "[200 rows x 3 columns]"
      ]
     },
     "execution_count": 37,
     "metadata": {},
     "output_type": "execute_result"
    }
   ],
   "source": [
    "pred_vs_actual_df=pd.DataFrame({'Actual_Value':y_test, \"Predicted_Value\":y_pred, \"Difference\":y_test-y_pred})\n",
    "pred_vs_actual_df"
   ]
  },
  {
   "cell_type": "code",
   "execution_count": null,
   "id": "802f4b71-b4a1-4c47-bf2b-0d810a2c252b",
   "metadata": {},
   "outputs": [],
   "source": []
  }
 ],
 "metadata": {
  "kernelspec": {
   "display_name": "Python 3 (ipykernel)",
   "language": "python",
   "name": "python3"
  },
  "language_info": {
   "codemirror_mode": {
    "name": "ipython",
    "version": 3
   },
   "file_extension": ".py",
   "mimetype": "text/x-python",
   "name": "python",
   "nbconvert_exporter": "python",
   "pygments_lexer": "ipython3",
   "version": "3.8.0"
  }
 },
 "nbformat": 4,
 "nbformat_minor": 5
}
